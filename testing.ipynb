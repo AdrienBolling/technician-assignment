{
 "cells": [
  {
   "metadata": {
    "ExecuteTime": {
     "end_time": "2024-06-24T12:13:21.365468Z",
     "start_time": "2024-06-24T12:13:21.359872Z"
    }
   },
   "cell_type": "code",
   "source": [
    "import platform\n",
    "\n",
    "# Get the name of the operating system\n",
    "os_name = platform.system()\n",
    "print(\"Platform OS name:\", os_name)\n",
    "\n",
    "# Get the release of the operating system\n",
    "os_release = platform.release()\n",
    "print(\"Platform OS release:\", os_release)\n",
    "\n",
    "# Get the version of the operating system\n",
    "os_version = platform.version()\n",
    "print(\"Platform OS version:\", os_version)\n",
    "\n",
    "# Get a detailed platform identifier\n",
    "platform_info = platform.platform()\n",
    "print(\"Platform info:\", platform_info)\n",
    "\n",
    "# Get the machine type, e.g., 'i386'\n",
    "machine_type = platform.machine()\n",
    "print(\"Machine type:\", machine_type)\n",
    "\n",
    "# Get the processor name, e.g., 'x86_64'\n",
    "processor_name = platform.processor()\n",
    "print(\"Processor name:\", processor_name)"
   ],
   "id": "65e5354d45277678",
   "outputs": [
    {
     "name": "stdout",
     "output_type": "stream",
     "text": [
      "Platform OS name: Darwin\n",
      "Platform OS release: 23.5.0\n",
      "Platform OS version: Darwin Kernel Version 23.5.0: Wed May  1 20:17:33 PDT 2024; root:xnu-10063.121.3~5/RELEASE_ARM64_T6031\n",
      "Platform info: macOS-14.5-arm64-arm-64bit\n",
      "Machine type: arm64\n",
      "Processor name: arm\n"
     ]
    }
   ],
   "execution_count": 1
  }
 ],
 "metadata": {
  "kernelspec": {
   "name": "python3",
   "language": "python",
   "display_name": "Python 3 (ipykernel)"
  }
 },
 "nbformat": 5,
 "nbformat_minor": 9
}
